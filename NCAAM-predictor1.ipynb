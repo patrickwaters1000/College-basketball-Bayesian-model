{
 "cells": [
  {
   "cell_type": "markdown",
   "metadata": {},
   "source": [
    "# Mining for profitable college basketball spread bets"
   ]
  },
  {
   "cell_type": "markdown",
   "metadata": {},
   "source": [
    "In this notebook I use two models (Baysian and Elo) to infer the strengths of college basketball teams from their game outcomes.\n",
    "I then fit a logistic regression model which takes predictors (spread, Bayes forecast, Elo forecast) and outputs an estimated probability of the home team beating the spread.  In spread betting the house makes its profit by only paying \\$100 on a winning bet of \\$110.  So for a bet to be profitable you need an 11/21 chance of winning, which is about 52.4%.  Given that many sports nuts will have extensive knowlege of factors such as player matchups and injuries, it seems quite difficult to beat these odds using only the history of game scores and spreads.  But it's worth a try!\n",
    "\n",
    "Most of my code is in the auxiliary files \"Elo_NCAAM.py\" and \"Bayes_NCAAM.py\"; this notebook is basically a front end for the models in those files."
   ]
  },
  {
   "cell_type": "markdown",
   "metadata": {},
   "source": [
    "## Importing the game data"
   ]
  },
  {
   "cell_type": "markdown",
   "metadata": {},
   "source": [
    "It's easy to find college basketball game score data online.  I collected raw data from a sports betting website by clicking \"select all\" in a browser and pasting to notepad.  I then used python's regular expression module \"re\" to clean the data and format it (see my file \"scraper.py\").  "
   ]
  },
  {
   "cell_type": "code",
   "execution_count": 1,
   "metadata": {
    "collapsed": false
   },
   "outputs": [
    {
     "data": {
      "text/html": [
       "<div>\n",
       "<table border=\"1\" class=\"dataframe\">\n",
       "  <thead>\n",
       "    <tr style=\"text-align: right;\">\n",
       "      <th></th>\n",
       "      <th>Date</th>\n",
       "      <th>Away</th>\n",
       "      <th>Away_pts</th>\n",
       "      <th>Home</th>\n",
       "      <th>Home_pts</th>\n",
       "      <th>Spread</th>\n",
       "    </tr>\n",
       "  </thead>\n",
       "  <tbody>\n",
       "    <tr>\n",
       "      <th>0</th>\n",
       "      <td>2014-11-14</td>\n",
       "      <td>VMI</td>\n",
       "      <td>66</td>\n",
       "      <td>The Citadel</td>\n",
       "      <td>65</td>\n",
       "      <td>-5.5</td>\n",
       "    </tr>\n",
       "    <tr>\n",
       "      <th>1</th>\n",
       "      <td>2014-11-14</td>\n",
       "      <td>Yale</td>\n",
       "      <td>85</td>\n",
       "      <td>Quinnipiac</td>\n",
       "      <td>88</td>\n",
       "      <td>1.5</td>\n",
       "    </tr>\n",
       "    <tr>\n",
       "      <th>2</th>\n",
       "      <td>2014-11-14</td>\n",
       "      <td>Presbyterian</td>\n",
       "      <td>44</td>\n",
       "      <td>Duke</td>\n",
       "      <td>113</td>\n",
       "      <td>39.0</td>\n",
       "    </tr>\n",
       "    <tr>\n",
       "      <th>3</th>\n",
       "      <td>2014-11-14</td>\n",
       "      <td>William &amp; Mary</td>\n",
       "      <td>45</td>\n",
       "      <td>Florida</td>\n",
       "      <td>68</td>\n",
       "      <td>18.0</td>\n",
       "    </tr>\n",
       "    <tr>\n",
       "      <th>4</th>\n",
       "      <td>2014-11-14</td>\n",
       "      <td>Boise State</td>\n",
       "      <td>81</td>\n",
       "      <td>San Diego</td>\n",
       "      <td>75</td>\n",
       "      <td>-2.5</td>\n",
       "    </tr>\n",
       "    <tr>\n",
       "      <th>5</th>\n",
       "      <td>2014-11-14</td>\n",
       "      <td>Virginia Commonwealth</td>\n",
       "      <td>85</td>\n",
       "      <td>Tennessee</td>\n",
       "      <td>69</td>\n",
       "      <td>-8.0</td>\n",
       "    </tr>\n",
       "    <tr>\n",
       "      <th>6</th>\n",
       "      <td>2014-11-14</td>\n",
       "      <td>Western Carolina</td>\n",
       "      <td>56</td>\n",
       "      <td>Mississippi State</td>\n",
       "      <td>66</td>\n",
       "      <td>14.0</td>\n",
       "    </tr>\n",
       "    <tr>\n",
       "      <th>7</th>\n",
       "      <td>2014-11-14</td>\n",
       "      <td>Belmont</td>\n",
       "      <td>70</td>\n",
       "      <td>Wright State</td>\n",
       "      <td>73</td>\n",
       "      <td>-1.5</td>\n",
       "    </tr>\n",
       "    <tr>\n",
       "      <th>8</th>\n",
       "      <td>2014-11-14</td>\n",
       "      <td>Charleston Southern</td>\n",
       "      <td>66</td>\n",
       "      <td>Mississippi</td>\n",
       "      <td>65</td>\n",
       "      <td>13.5</td>\n",
       "    </tr>\n",
       "    <tr>\n",
       "      <th>9</th>\n",
       "      <td>2014-11-14</td>\n",
       "      <td>Cleveland State</td>\n",
       "      <td>73</td>\n",
       "      <td>Iona</td>\n",
       "      <td>78</td>\n",
       "      <td>6.5</td>\n",
       "    </tr>\n",
       "  </tbody>\n",
       "</table>\n",
       "</div>"
      ],
      "text/plain": [
       "         Date                   Away  Away_pts               Home  Home_pts  \\\n",
       "0  2014-11-14                    VMI        66        The Citadel        65   \n",
       "1  2014-11-14                   Yale        85         Quinnipiac        88   \n",
       "2  2014-11-14           Presbyterian        44               Duke       113   \n",
       "3  2014-11-14         William & Mary        45            Florida        68   \n",
       "4  2014-11-14            Boise State        81          San Diego        75   \n",
       "5  2014-11-14  Virginia Commonwealth        85          Tennessee        69   \n",
       "6  2014-11-14       Western Carolina        56  Mississippi State        66   \n",
       "7  2014-11-14                Belmont        70       Wright State        73   \n",
       "8  2014-11-14    Charleston Southern        66        Mississippi        65   \n",
       "9  2014-11-14        Cleveland State        73               Iona        78   \n",
       "\n",
       "   Spread  \n",
       "0    -5.5  \n",
       "1     1.5  \n",
       "2    39.0  \n",
       "3    18.0  \n",
       "4    -2.5  \n",
       "5    -8.0  \n",
       "6    14.0  \n",
       "7    -1.5  \n",
       "8    13.5  \n",
       "9     6.5  "
      ]
     },
     "execution_count": 1,
     "metadata": {},
     "output_type": "execute_result"
    }
   ],
   "source": [
    "import numpy as np\n",
    "import pandas as pd\n",
    "D=pd.read_csv('NCAAM2014-2017.csv')[['Date','Away','Away_pts','Home','Home_pts','Spread']]\n",
    "D.head(10)"
   ]
  },
  {
   "cell_type": "markdown",
   "metadata": {},
   "source": [
    "People on the web seem to believe that home advantage in college basketball depends on the home arena and time of season and can be between 0 and 6 points.  I don't have reliable estimates for this dependence, so I'll use a fixed home advantage of 3 points.  However, the teams are \"home\" and \"away\" even if the game was played at a neutral site, so I include a column 'Ntrl' indicating postseason tournament games where home advantage shouldn't be used."
   ]
  },
  {
   "cell_type": "code",
   "execution_count": 2,
   "metadata": {
    "collapsed": true
   },
   "outputs": [],
   "source": [
    "D['Ntrl']=np.zeros(len(D))\n",
    "for year in range(2015,2018):\n",
    "    D.loc[(D.Date>='{}-03-08'.format(year))&(D.Date<'{}-07-01'.format(year)),'Ntrl']=1"
   ]
  },
  {
   "cell_type": "markdown",
   "metadata": {},
   "source": [
    "## Bayes and Elo models"
   ]
  },
  {
   "cell_type": "markdown",
   "metadata": {},
   "source": [
    "Just below we'll import my models \"Bayes_NCAAM_Model\" and \"Elo_NCAAM_Model\".  I implemented these as classes with attributes for the current team strengths and history of the model's performance, and methods for making predictions and updating the model based on game results.  Let me just quickly explain how the models work.\n",
    "\n",
    "An Elo model is the system FIDE uses to calculate the ratings of chess players.  Each player (or for us, each team) has a numerical rating.  Each team's performance in a game is modeled as a normal random variable centered at the team's rating, which lets us calculate the probability of that team winning.  After the game, the winning team takes rating points from the loser so that the total rating points of all teams is conserved.  If the stronger team wins it takes a small number of points, but if the underdog pulls of a big upset many rating points are transfered.  The exact numbers are chosen so that the expected number of points won or lost for any team in any game is zero.  That is, if the team ratings are acurate-- what actually happens is that an overranked team will not win often enough to maintain its rating, so ratings drift over time towards their correct values.\n",
    "\n",
    "The Bayesian model is based on margin of victory.  It models the strengths of all the teams as a multinormal distribution.  This gives both an estimated strength for each team and also measure of confidence for that estimate.  The predicted score difference in a game is the home strength minus away strength, adjusted for home advantage.  After observing actual game outcomes, the model updates according to the formulas\n",
    "\\begin{align}\n",
    "A' =& A -\\frac{1}{\\sigma^2}\\Lambda, \\qquad\n",
    "\\mu' = (A')^{-1} \\left(A\\mu + \\frac{1}{\\sigma^2} b   \\right).\n",
    "\\end{align}\n",
    "Here $A$ is inverse of the prior covariance matrix, $\\Lambda$ is the \"game graph Laplacian\", $\\sigma$ is the game score standard deviation and $\\mu$ be the prior mean strength vector.\n",
    "By game graph Laplacian I mean that $\\Lambda_{ij}$ is the number of times team $i$ played team $j$, and $\\Lambda_{ii}$ is the number of games played by team $i$.\n",
    "Finally $b_i$ is the net score for team $i$ minus the number of extra times team $i$ was the home team times the home field advantage parameter of 3."
   ]
  },
  {
   "cell_type": "code",
   "execution_count": 3,
   "metadata": {
    "collapsed": true
   },
   "outputs": [],
   "source": [
    "from Bayes_NCAAM import *\n",
    "from Elo_NCAAM import *\n",
    "from numpy.linalg import inv\n",
    "from numpy import dot\n",
    "import matplotlib.pyplot as plt\n",
    "\n",
    "def run_models_on_year(models,D,year):\n",
    "    day1='{}-11-01'.format(year-1)\n",
    "    while day1<'{}-04-15'.format(year):\n",
    "        day2=date_incr(day1,1)\n",
    "        some_games=D[(D.Date>=day1) & (D.Date<day2)]\n",
    "        for model in models:\n",
    "            model.RunGames(some_games)\n",
    "        day1=day2\n",
    "        \n",
    "def plot_errs(model,color,plot_spread=False):\n",
    "    error_df=model.ErrorLog()\n",
    "    rolling_errors=[wt_mean_errs(df) for df in roll_df(error_df,5)]\n",
    "    model_roll_errs,spread_roll_errs=zip(*rolling_errors)\n",
    "    L=len(error_df)\n",
    "    plt.plot(range(4,L),model_roll_errs,color+'-')\n",
    "    plt.plot(range(L),error_df.ModelError.values,color+'.')\n",
    "    if plot_spread:\n",
    "        plt.plot(range(4,L),spread_roll_errs,'k-')\n",
    "        plt.plot(range(L),error_df.SpreadError.values,'k.')"
   ]
  },
  {
   "cell_type": "markdown",
   "metadata": {},
   "source": [
    "Now we'll run our models on the subset of the data from the 2014-2015 season.  This won't print any output, but the models' predictions for each game will be saved in their \"history\" attributes.  After the models have run, we can print the Bayes model's postseason rankings:"
   ]
  },
  {
   "cell_type": "code",
   "execution_count": 4,
   "metadata": {
    "collapsed": false
   },
   "outputs": [
    {
     "data": {
      "text/html": [
       "<div>\n",
       "<table border=\"1\" class=\"dataframe\">\n",
       "  <thead>\n",
       "    <tr style=\"text-align: right;\">\n",
       "      <th></th>\n",
       "      <th>Strengths</th>\n",
       "      <th>Team</th>\n",
       "    </tr>\n",
       "    <tr>\n",
       "      <th>Rank</th>\n",
       "      <th></th>\n",
       "      <th></th>\n",
       "    </tr>\n",
       "  </thead>\n",
       "  <tbody>\n",
       "    <tr>\n",
       "      <th>1</th>\n",
       "      <td>25.426834</td>\n",
       "      <td>Kentucky</td>\n",
       "    </tr>\n",
       "    <tr>\n",
       "      <th>2</th>\n",
       "      <td>21.781328</td>\n",
       "      <td>Arizona</td>\n",
       "    </tr>\n",
       "    <tr>\n",
       "      <th>3</th>\n",
       "      <td>21.398444</td>\n",
       "      <td>Wisconsin</td>\n",
       "    </tr>\n",
       "    <tr>\n",
       "      <th>4</th>\n",
       "      <td>21.345929</td>\n",
       "      <td>Duke</td>\n",
       "    </tr>\n",
       "    <tr>\n",
       "      <th>5</th>\n",
       "      <td>20.022469</td>\n",
       "      <td>Villanova</td>\n",
       "    </tr>\n",
       "    <tr>\n",
       "      <th>6</th>\n",
       "      <td>19.101670</td>\n",
       "      <td>Utah</td>\n",
       "    </tr>\n",
       "    <tr>\n",
       "      <th>7</th>\n",
       "      <td>18.881617</td>\n",
       "      <td>Gonzaga</td>\n",
       "    </tr>\n",
       "    <tr>\n",
       "      <th>8</th>\n",
       "      <td>18.682113</td>\n",
       "      <td>Virginia</td>\n",
       "    </tr>\n",
       "    <tr>\n",
       "      <th>9</th>\n",
       "      <td>16.292881</td>\n",
       "      <td>Ohio State</td>\n",
       "    </tr>\n",
       "    <tr>\n",
       "      <th>10</th>\n",
       "      <td>16.198072</td>\n",
       "      <td>North Carolina</td>\n",
       "    </tr>\n",
       "  </tbody>\n",
       "</table>\n",
       "</div>"
      ],
      "text/plain": [
       "      Strengths            Team\n",
       "Rank                           \n",
       "1     25.426834        Kentucky\n",
       "2     21.781328         Arizona\n",
       "3     21.398444       Wisconsin\n",
       "4     21.345929            Duke\n",
       "5     20.022469       Villanova\n",
       "6     19.101670            Utah\n",
       "7     18.881617         Gonzaga\n",
       "8     18.682113        Virginia\n",
       "9     16.292881      Ohio State\n",
       "10    16.198072  North Carolina"
      ]
     },
     "execution_count": 4,
     "metadata": {},
     "output_type": "execute_result"
    }
   ],
   "source": [
    "pd.options.mode.chained_assignment = None\n",
    "D15=D[(D.Date>'2014-11-01') & (D.Date<'2015-05-01')]\n",
    "teams=sorted(D15['Away'].append(D15['Home']).unique())\n",
    "Bayes15=Bayes_NCAAM_Model(teams,home_adv=2.75)\n",
    "Elo15=Elo_NCAAM_Model(teams,home_adv=0.2,sigma=0.2)\n",
    "run_models_on_year([Bayes15,Elo15],D15,2015)\n",
    "Bayes15.rankings().head(10)"
   ]
  },
  {
   "cell_type": "markdown",
   "metadata": {},
   "source": [
    "Now we'll plot the mean absolute error of our models week by week over the 2015 season.  For comparison we plot the mean absolute error of the spread.  The plot gives a rough idea of how good the models are, but you can't assume anything about profitability of bets from it.  The models require some time at the beginning of the season to learn the team strengths, but over the second half the Bayes model at least performs quite well."
   ]
  },
  {
   "cell_type": "code",
   "execution_count": 5,
   "metadata": {
    "collapsed": false
   },
   "outputs": [
    {
     "data": {
      "image/png": "[encoded data removed]",
      "text/plain": [
       "<matplotlib.figure.Figure at 0x251f6d42358>"
      ]
     },
     "metadata": {},
     "output_type": "display_data"
    }
   ],
   "source": [
    "plot_errs(Bayes15,'r',plot_spread=True)\n",
    "plot_errs(Elo15,'g',plot_spread=True)\n",
    "plt.xlim([0,22])\n",
    "plt.ylim([7,13])\n",
    "plt.show()"
   ]
  },
  {
   "cell_type": "markdown",
   "metadata": {},
   "source": [
    "##  Logistic regression for probability of beating the spread"
   ]
  },
  {
   "cell_type": "code",
   "execution_count": 15,
   "metadata": {
    "collapsed": true
   },
   "outputs": [],
   "source": [
    "from sklearn.linear_model import LogisticRegression\n",
    "def day_nbr(date):\n",
    "    y,m,d = [int(x) for x in date.split('-')]\n",
    "    q={11:0,12:30,1:61,2:92,3:120,4:151}[m]\n",
    "    if y==2016 & m>=3:\n",
    "        q+=1\n",
    "    return q+d\n",
    "\n",
    "def prepare_model_data(bayes,elo):\n",
    "    H1=bayes.history[['Date','Away','Home','Spread','Forecast','Actual']]\n",
    "    H2=elo.history[['Date','Away','Home','Forecast']]\n",
    "    DF=pd.merge(H1,H2,on=['Date','Away','Home'],how='left')\n",
    "    DF=DF.rename(columns={'Forecast_x':'BayesModel','Forecast_y':'EloModel'})\n",
    "    DF['Day']=DF['Date'].apply(day_nbr)\n",
    "    DF=DF[DF.Spread!=DF.Actual]\n",
    "    DF['AwayCovered']=DF.apply(lambda row: 1 if row.Actual < row.Spread else 0, axis=1)\n",
    "    DF=DF[['Day','Spread','EloModel','BayesModel','AwayCovered']]\n",
    "    DF=DF.dropna(axis=0, how='any')\n",
    "    return DF\n",
    "\n",
    "thresh=0.525\n",
    "def profit(row):\n",
    "    if row.HomeWinProb>thresh:\n",
    "        return -1 if row.AwayCovered==1 else 10/11\n",
    "    if row.HomeWinProb<1-thresh:\n",
    "        return 10/11 if row.AwayCovered==1 else -1\n",
    "    return 0"
   ]
  },
  {
   "cell_type": "code",
   "execution_count": 16,
   "metadata": {
    "collapsed": false
   },
   "outputs": [
    {
     "name": "stdout",
     "output_type": "stream",
     "text": [
      "Running model on 2015-16\n",
      "Fitting logistic model\n",
      "Coefficients: [[ 0.00311378  0.00739702 -0.00706987]], bias: 0.0\n"
     ]
    }
   ],
   "source": [
    "train15=prepare_model_data(Bayes15,Elo15)\n",
    "train15=train15[train15.Day>50]\n",
    "\n",
    "print('Running model on 2015-16')\n",
    "D16=D[(D.Date>'2015-11-01') & (D.Date<'2016-05-01')]\n",
    "teams=sorted(D16['Away'].append(D16['Home']).unique())\n",
    "Bayes16=Bayes_NCAAM_Model(teams,home_adv=2.75)\n",
    "Elo16=Elo_NCAAM_Model(teams,home_adv=0.2,sigma=0.2)\n",
    "run_models_on_year([Bayes16,Elo16],D16,2016)\n",
    "train16=prepare_model_data(Bayes16,Elo16)\n",
    "train16=train16[train16.Day>50]\n",
    "train=train15.append(train16)\n",
    "\n",
    "print('Fitting logistic model')\n",
    "X=train[['Spread','EloModel','BayesModel']].values\n",
    "Y=train['AwayCovered'].values\n",
    "REGR=LogisticRegression(fit_intercept=False)\n",
    "REGR.fit(X,Y)\n",
    "print('Coefficients: {}, bias: {}'.format(REGR.coef_,REGR.intercept_))"
   ]
  },
  {
   "cell_type": "markdown",
   "metadata": {},
   "source": [
    "An interpretation of the logistic regression coefficients we just fit is that the spread may be inaccurate when the Bayes and Elo models disagree, and in that case it's better to trust the Bayes model.  That's just a heuristic though, the model outputs an estimated probability of beating the spread in each game.  Now our regressor is fit, let's run our model on the 2016-2017 season and look at some of the predicted probabilities!"
   ]
  },
  {
   "cell_type": "code",
   "execution_count": 17,
   "metadata": {
    "collapsed": false
   },
   "outputs": [
    {
     "name": "stdout",
     "output_type": "stream",
     "text": [
      "Running model on 2016-2017\n",
      "Scoring model\n"
     ]
    },
    {
     "data": {
      "text/html": [
       "<div>\n",
       "<table border=\"1\" class=\"dataframe\">\n",
       "  <thead>\n",
       "    <tr style=\"text-align: right;\">\n",
       "      <th></th>\n",
       "      <th>Day</th>\n",
       "      <th>Spread</th>\n",
       "      <th>EloModel</th>\n",
       "      <th>BayesModel</th>\n",
       "      <th>AwayCovered</th>\n",
       "      <th>HomeWinProb</th>\n",
       "      <th>GameProfit</th>\n",
       "    </tr>\n",
       "  </thead>\n",
       "  <tbody>\n",
       "    <tr>\n",
       "      <th>3989</th>\n",
       "      <td>148</td>\n",
       "      <td>-2.5</td>\n",
       "      <td>-0.880096</td>\n",
       "      <td>-3.723549</td>\n",
       "      <td>1</td>\n",
       "      <td>0.503008</td>\n",
       "      <td>0.0</td>\n",
       "    </tr>\n",
       "    <tr>\n",
       "      <th>3990</th>\n",
       "      <td>149</td>\n",
       "      <td>2.0</td>\n",
       "      <td>-1.069255</td>\n",
       "      <td>-4.078065</td>\n",
       "      <td>1</td>\n",
       "      <td>0.506787</td>\n",
       "      <td>0.0</td>\n",
       "    </tr>\n",
       "    <tr>\n",
       "      <th>3991</th>\n",
       "      <td>149</td>\n",
       "      <td>7.5</td>\n",
       "      <td>-4.915790</td>\n",
       "      <td>3.272879</td>\n",
       "      <td>0</td>\n",
       "      <td>0.490964</td>\n",
       "      <td>0.0</td>\n",
       "    </tr>\n",
       "    <tr>\n",
       "      <th>3992</th>\n",
       "      <td>149</td>\n",
       "      <td>3.0</td>\n",
       "      <td>3.588236</td>\n",
       "      <td>-3.128486</td>\n",
       "      <td>0</td>\n",
       "      <td>0.514496</td>\n",
       "      <td>0.0</td>\n",
       "    </tr>\n",
       "    <tr>\n",
       "      <th>3993</th>\n",
       "      <td>150</td>\n",
       "      <td>4.0</td>\n",
       "      <td>5.681130</td>\n",
       "      <td>4.285662</td>\n",
       "      <td>0</td>\n",
       "      <td>0.506045</td>\n",
       "      <td>0.0</td>\n",
       "    </tr>\n",
       "    <tr>\n",
       "      <th>3994</th>\n",
       "      <td>151</td>\n",
       "      <td>8.0</td>\n",
       "      <td>1.030887</td>\n",
       "      <td>4.563626</td>\n",
       "      <td>0</td>\n",
       "      <td>0.500068</td>\n",
       "      <td>0.0</td>\n",
       "    </tr>\n",
       "    <tr>\n",
       "      <th>3995</th>\n",
       "      <td>151</td>\n",
       "      <td>-3.5</td>\n",
       "      <td>-0.051658</td>\n",
       "      <td>5.070325</td>\n",
       "      <td>0</td>\n",
       "      <td>0.488220</td>\n",
       "      <td>0.0</td>\n",
       "    </tr>\n",
       "    <tr>\n",
       "      <th>3996</th>\n",
       "      <td>152</td>\n",
       "      <td>6.5</td>\n",
       "      <td>3.505046</td>\n",
       "      <td>9.136800</td>\n",
       "      <td>1</td>\n",
       "      <td>0.495393</td>\n",
       "      <td>0.0</td>\n",
       "    </tr>\n",
       "    <tr>\n",
       "      <th>3997</th>\n",
       "      <td>152</td>\n",
       "      <td>4.5</td>\n",
       "      <td>-0.810409</td>\n",
       "      <td>3.711186</td>\n",
       "      <td>1</td>\n",
       "      <td>0.495445</td>\n",
       "      <td>0.0</td>\n",
       "    </tr>\n",
       "    <tr>\n",
       "      <th>3998</th>\n",
       "      <td>154</td>\n",
       "      <td>1.0</td>\n",
       "      <td>2.758254</td>\n",
       "      <td>-1.780081</td>\n",
       "      <td>0</td>\n",
       "      <td>0.509024</td>\n",
       "      <td>0.0</td>\n",
       "    </tr>\n",
       "  </tbody>\n",
       "</table>\n",
       "</div>"
      ],
      "text/plain": [
       "      Day  Spread  EloModel  BayesModel  AwayCovered  HomeWinProb  GameProfit\n",
       "3989  148    -2.5 -0.880096   -3.723549            1     0.503008         0.0\n",
       "3990  149     2.0 -1.069255   -4.078065            1     0.506787         0.0\n",
       "3991  149     7.5 -4.915790    3.272879            0     0.490964         0.0\n",
       "3992  149     3.0  3.588236   -3.128486            0     0.514496         0.0\n",
       "3993  150     4.0  5.681130    4.285662            0     0.506045         0.0\n",
       "3994  151     8.0  1.030887    4.563626            0     0.500068         0.0\n",
       "3995  151    -3.5 -0.051658    5.070325            0     0.488220         0.0\n",
       "3996  152     6.5  3.505046    9.136800            1     0.495393         0.0\n",
       "3997  152     4.5 -0.810409    3.711186            1     0.495445         0.0\n",
       "3998  154     1.0  2.758254   -1.780081            0     0.509024         0.0"
      ]
     },
     "execution_count": 17,
     "metadata": {},
     "output_type": "execute_result"
    }
   ],
   "source": [
    "print('Running model on 2016-2017')\n",
    "D17=D[(D.Date>'2016-11-01') & (D.Date<'2017-05-01')]\n",
    "teams=sorted(D17['Away'].append(D17['Home']).unique())\n",
    "Bayes17=Bayes_NCAAM_Model(teams,home_adv=2.75)\n",
    "Elo17=Elo_NCAAM_Model(teams,home_adv=0.2,sigma=0.2)\n",
    "run_models_on_year([Bayes17,Elo17],D17,2017)\n",
    "\n",
    "print('Scoring model')\n",
    "test=prepare_model_data(Bayes17,Elo17)\n",
    "X_test=test[['Spread','EloModel','BayesModel']].values\n",
    "test['HomeWinProb']=REGR.predict_proba(X_test)[:,1]\n",
    "test['GameProfit']=test.apply(profit,axis=1)\n",
    "test.iloc[-10:]"
   ]
  },
  {
   "cell_type": "markdown",
   "metadata": {},
   "source": [
    "As you can see, in the above 10 games all of the prediced probabilities are within 2.4% of 50%.  When that happens, the model is asserting that it is not profitable to bet at all, and so the \"game profit\" is necessarily 0.  It's not at all surprising that this is the case for most games-- if it was easy to beat the spread using such limited information, then everyone would be doing it!\n",
    "\n",
    "So does our model identify any profitable bets at all?  Actually only a few in the 2016-2017 season as the following grah shows:"
   ]
  },
  {
   "cell_type": "code",
   "execution_count": 19,
   "metadata": {
    "collapsed": false
   },
   "outputs": [
    {
     "data": {
      "image/png": "[encoded data removed]",
      "text/plain": [
       "<matplotlib.figure.Figure at 0x251fa8809b0>"
      ]
     },
     "metadata": {},
     "output_type": "display_data"
    }
   ],
   "source": [
    "test['NetProfit']=test.GameProfit.cumsum()\n",
    "plt.plot(range(len(test)),test['NetProfit'],'r-')\n",
    "plt.show()"
   ]
  },
  {
   "cell_type": "code",
   "execution_count": 23,
   "metadata": {
    "collapsed": false
   },
   "outputs": [
    {
     "name": "stdout",
     "output_type": "stream",
     "text": [
      "Wins=33, losses=34, win rate=0.4925, 90% confidence interval for true win rate=[0.3921, 0.5930]\n"
     ]
    }
   ],
   "source": [
    "from scipy.stats import norm\n",
    "wins=test.GameProfit.apply(lambda x: 1 if x>0 else 0).sum()\n",
    "losses=test.GameProfit.apply(lambda x: 1 if x<0 else 0).sum()\n",
    "n=wins+losses\n",
    "p=wins/n\n",
    "z=norm.ppf(0.95)\n",
    "r=np.sqrt(p*(1-p)/n)*z\n",
    "str1='Wins={}, losses={}, win rate={:.4f}, 90% confidence interval for true win rate=[{:.4f}, {:.4f}]'\n",
    "print(str1.format(wins,losses,p,p-r,p+r))"
   ]
  },
  {
   "cell_type": "markdown",
   "metadata": {},
   "source": [
    "From these results we cannot draw any conclusion.  Even if we choose which team to bet on by flipping a coin, we would still expect a win rate of 50%.  To decide whether our betting strategy is effective, we could test a null hypothesis that the win rate is 50% against an alternate hypothesis of a 52.5% winning probability.  Because our 90% confidence interval has a width of about 0.2, we have nowhere near enough data to make an inference.  To distinguish between the two hypotheses we would need to see the model make somewhere in the ballpark of 2500 bets.  Since the model chooses not to bet in most games, this is not feasible with the available data."
   ]
  },
  {
   "cell_type": "code",
   "execution_count": null,
   "metadata": {
    "collapsed": true
   },
   "outputs": [],
   "source": []
  }
 ],
 "metadata": {
  "kernelspec": {
   "display_name": "Python 3",
   "language": "python",
   "name": "python3"
  },
  "language_info": {
   "codemirror_mode": {
    "name": "ipython",
    "version": 3
   },
   "file_extension": ".py",
   "mimetype": "text/x-python",
   "name": "python",
   "nbconvert_exporter": "python",
   "pygments_lexer": "ipython3",
   "version": "3.5.2"
  }
 },
 "nbformat": 4,
 "nbformat_minor": 1
}
